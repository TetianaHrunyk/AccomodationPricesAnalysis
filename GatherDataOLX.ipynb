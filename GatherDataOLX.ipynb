{
  "nbformat": 4,
  "nbformat_minor": 0,
  "metadata": {
    "colab": {
      "provenance": [],
      "mount_file_id": "1SeW_W98bPxUwcDH2Q46MVAzB5BvXJNTN",
      "authorship_tag": "ABX9TyM8oErFNaOvSyJurZ+VOK2B",
      "include_colab_link": true
    },
    "kernelspec": {
      "name": "python3",
      "display_name": "Python 3"
    },
    "language_info": {
      "name": "python"
    }
  },
  "cells": [
    {
      "cell_type": "markdown",
      "metadata": {
        "id": "view-in-github",
        "colab_type": "text"
      },
      "source": [
        "<a href=\"https://colab.research.google.com/github/TetianaHrunyk/AccomodationPricesAnalysis/blob/main/GatherDataOLX.ipynb\" target=\"_parent\"><img src=\"https://colab.research.google.com/assets/colab-badge.svg\" alt=\"Open In Colab\"/></a>"
      ]
    },
    {
      "cell_type": "code",
      "execution_count": null,
      "metadata": {
        "id": "kFe6vpnaAmW_"
      },
      "outputs": [],
      "source": [
        "import requests\n",
        "from bs4 import BeautifulSoup\n",
        "from pprint import pprint\n",
        "from datetime import datetime\n",
        "import pandas as pd\n",
        "import os"
      ]
    },
    {
      "cell_type": "code",
      "source": [
        "from google.colab import drive\n",
        "drive.mount('/content/drive')"
      ],
      "metadata": {
        "colab": {
          "base_uri": "https://localhost:8080/"
        },
        "id": "qTlSKRK2eeqC",
        "outputId": "fbf85c14-155d-435a-8853-7eff76c65b39"
      },
      "execution_count": null,
      "outputs": [
        {
          "output_type": "stream",
          "name": "stdout",
          "text": [
            "Drive already mounted at /content/drive; to attempt to forcibly remount, call drive.mount(\"/content/drive\", force_remount=True).\n"
          ]
        }
      ]
    },
    {
      "cell_type": "markdown",
      "source": [
        "# Constants"
      ],
      "metadata": {
        "id": "bQmDNUATd6aY"
      }
    },
    {
      "cell_type": "code",
      "source": [
        "CITY = \"warszawa\""
      ],
      "metadata": {
        "id": "IONhcI5Hbh-q"
      },
      "execution_count": null,
      "outputs": []
    },
    {
      "cell_type": "code",
      "source": [
        "BASE = \"https://www.olx.pl\"\n",
        "START_PAGE = f\"{BASE}/nieruchomosci/mieszkania/wynajem/{CITY}/\""
      ],
      "metadata": {
        "id": "JnNkLLjxEj9_"
      },
      "execution_count": null,
      "outputs": []
    },
    {
      "cell_type": "code",
      "source": [
        "today = datetime.strftime(datetime.today(), \"%Y-%m-%dT%H:%M\")"
      ],
      "metadata": {
        "id": "wAyb0x2echkq"
      },
      "execution_count": null,
      "outputs": []
    },
    {
      "cell_type": "code",
      "source": [
        "OUTPUT_PATH = os.path.join(\"drive/MyDrive/Projects/RentalsPL/data/\", f\"{CITY}_{today}.csv\")"
      ],
      "metadata": {
        "id": "vx_R6AFSepcR"
      },
      "execution_count": null,
      "outputs": []
    },
    {
      "cell_type": "markdown",
      "source": [
        "# Getting all offers' links"
      ],
      "metadata": {
        "id": "k6Rfk3wMd8YC"
      }
    },
    {
      "cell_type": "code",
      "source": [
        "page = requests.get(START_PAGE)\n",
        "soup = BeautifulSoup(page.content, 'html.parser')\n",
        "# page_num = int(soup.find(\"ul\", {\"data-testid\": \"pagination-list\"}).find_all(\"li\")[-1].text)\n",
        "page_num=25\n",
        "\n",
        "links = soup.find_all(\"a\")"
      ],
      "metadata": {
        "id": "6CpcrMD7Efy2"
      },
      "execution_count": null,
      "outputs": []
    },
    {
      "cell_type": "code",
      "source": [
        "for i in range(2, page_num+1):\n",
        "  page = requests.get(f\"{START_PAGE}?page={i}\")\n",
        "  soup = BeautifulSoup(page.content, 'html.parser')\n",
        "  links += soup.find_all(\"a\")"
      ],
      "metadata": {
        "id": "4oGy7BQFaaMf"
      },
      "execution_count": null,
      "outputs": []
    },
    {
      "cell_type": "code",
      "source": [
        "offer_links = list({x[\"href\"] for x in links if x.get(\"href\", \"\").startswith(\"/d/oferta\")})"
      ],
      "metadata": {
        "id": "I3ihrO6sEw0e"
      },
      "execution_count": null,
      "outputs": []
    },
    {
      "cell_type": "code",
      "source": [
        "len(offer_links)"
      ],
      "metadata": {
        "colab": {
          "base_uri": "https://localhost:8080/"
        },
        "id": "gzyebCJObzYe",
        "outputId": "42e9e53e-a1fc-4b95-81be-4c5dcc2e5baa"
      },
      "execution_count": null,
      "outputs": [
        {
          "output_type": "execute_result",
          "data": {
            "text/plain": [
              "743"
            ]
          },
          "metadata": {},
          "execution_count": 83
        }
      ]
    },
    {
      "cell_type": "markdown",
      "source": [
        "# Offer"
      ],
      "metadata": {
        "id": "P6oDUoPfRPYo"
      }
    },
    {
      "cell_type": "code",
      "source": [
        "all_offers_scraped = []\n",
        "\n",
        "for offer_link in offer_links:\n",
        "  offer = requests.get(f\"{BASE}/{offer_link}\")\n",
        "  offer_soup = BeautifulSoup(offer.content, 'html.parser')\n",
        "\n",
        "  try:\n",
        "    offer_data = dict(\n",
        "      added = offer_soup.find(\"span\", {\"data-cy\": \"ad-posted-at\"}).text,\n",
        "      title = offer_soup.find(\"h1\", {\"data-cy\": \"ad_title\"}).text,\n",
        "      price = offer_soup.find(\"div\", {\"data-testid\": \"ad-price-container\"}).find(\"h3\").text,\n",
        "      tags = [x.text for x in offer_soup.find(\"span\", {\"data-cy\": \"ad-posted-at\"}).find_parent().find_parent().find_parent().find_all(\"li\")],\n",
        "      description = offer_soup.find(\"div\", {\"data-cy\": \"ad_description\"}).find(\"div\").text,\n",
        "      images = [x[\"src\"] for x in offer_soup.find_all(\"img\") if \"image;\" in x[\"src\"]],\n",
        "      city=CITY,\n",
        "      scraped=today\n",
        "    )\n",
        "    all_offers_scraped.append(offer_data)\n",
        "  except Exception as e:\n",
        "    print(e)"
      ],
      "metadata": {
        "id": "7iHCkUF_FTX2",
        "colab": {
          "base_uri": "https://localhost:8080/"
        },
        "outputId": "05cde849-591a-4ce8-da7d-1cda4f4e51d3"
      },
      "execution_count": null,
      "outputs": [
        {
          "output_type": "stream",
          "name": "stdout",
          "text": [
            "'NoneType' object has no attribute 'text'\n",
            "'NoneType' object has no attribute 'text'\n",
            "'NoneType' object has no attribute 'text'\n",
            "'NoneType' object has no attribute 'text'\n",
            "'NoneType' object has no attribute 'text'\n",
            "'NoneType' object has no attribute 'text'\n",
            "'NoneType' object has no attribute 'text'\n",
            "'NoneType' object has no attribute 'text'\n",
            "'NoneType' object has no attribute 'text'\n",
            "'NoneType' object has no attribute 'text'\n",
            "'NoneType' object has no attribute 'text'\n",
            "'NoneType' object has no attribute 'text'\n",
            "'NoneType' object has no attribute 'text'\n",
            "'NoneType' object has no attribute 'text'\n",
            "'NoneType' object has no attribute 'text'\n",
            "'NoneType' object has no attribute 'text'\n",
            "'NoneType' object has no attribute 'text'\n",
            "'NoneType' object has no attribute 'text'\n",
            "'NoneType' object has no attribute 'text'\n",
            "'NoneType' object has no attribute 'text'\n",
            "'NoneType' object has no attribute 'text'\n",
            "'NoneType' object has no attribute 'text'\n",
            "'NoneType' object has no attribute 'text'\n",
            "'NoneType' object has no attribute 'text'\n",
            "'NoneType' object has no attribute 'text'\n",
            "'NoneType' object has no attribute 'text'\n",
            "'NoneType' object has no attribute 'text'\n",
            "'NoneType' object has no attribute 'text'\n",
            "'NoneType' object has no attribute 'text'\n",
            "'NoneType' object has no attribute 'text'\n",
            "'NoneType' object has no attribute 'text'\n",
            "'NoneType' object has no attribute 'text'\n",
            "'NoneType' object has no attribute 'text'\n",
            "'NoneType' object has no attribute 'text'\n",
            "'NoneType' object has no attribute 'text'\n",
            "'NoneType' object has no attribute 'text'\n",
            "'NoneType' object has no attribute 'text'\n",
            "'NoneType' object has no attribute 'text'\n",
            "'NoneType' object has no attribute 'text'\n",
            "'NoneType' object has no attribute 'text'\n",
            "'NoneType' object has no attribute 'text'\n",
            "'NoneType' object has no attribute 'text'\n",
            "'NoneType' object has no attribute 'text'\n",
            "'NoneType' object has no attribute 'text'\n",
            "'NoneType' object has no attribute 'text'\n",
            "'NoneType' object has no attribute 'text'\n",
            "'NoneType' object has no attribute 'text'\n",
            "'NoneType' object has no attribute 'text'\n",
            "'NoneType' object has no attribute 'text'\n",
            "'NoneType' object has no attribute 'text'\n",
            "'NoneType' object has no attribute 'text'\n",
            "'NoneType' object has no attribute 'text'\n",
            "'NoneType' object has no attribute 'text'\n",
            "'NoneType' object has no attribute 'text'\n",
            "'NoneType' object has no attribute 'text'\n",
            "'NoneType' object has no attribute 'text'\n",
            "'NoneType' object has no attribute 'text'\n",
            "'NoneType' object has no attribute 'text'\n",
            "'NoneType' object has no attribute 'text'\n",
            "'NoneType' object has no attribute 'text'\n",
            "'NoneType' object has no attribute 'text'\n",
            "'NoneType' object has no attribute 'text'\n",
            "'NoneType' object has no attribute 'text'\n",
            "'NoneType' object has no attribute 'text'\n",
            "'NoneType' object has no attribute 'text'\n",
            "'NoneType' object has no attribute 'text'\n",
            "'NoneType' object has no attribute 'text'\n",
            "'NoneType' object has no attribute 'text'\n",
            "'NoneType' object has no attribute 'text'\n",
            "'NoneType' object has no attribute 'text'\n",
            "'NoneType' object has no attribute 'text'\n",
            "'NoneType' object has no attribute 'text'\n",
            "'NoneType' object has no attribute 'text'\n",
            "'NoneType' object has no attribute 'text'\n",
            "'NoneType' object has no attribute 'text'\n",
            "'NoneType' object has no attribute 'text'\n",
            "'NoneType' object has no attribute 'text'\n",
            "'NoneType' object has no attribute 'text'\n",
            "'NoneType' object has no attribute 'text'\n",
            "'NoneType' object has no attribute 'text'\n",
            "'NoneType' object has no attribute 'text'\n",
            "'NoneType' object has no attribute 'text'\n",
            "'NoneType' object has no attribute 'text'\n",
            "'NoneType' object has no attribute 'text'\n",
            "'NoneType' object has no attribute 'text'\n",
            "'NoneType' object has no attribute 'text'\n",
            "'NoneType' object has no attribute 'text'\n",
            "'NoneType' object has no attribute 'text'\n",
            "'NoneType' object has no attribute 'text'\n",
            "'NoneType' object has no attribute 'text'\n",
            "'NoneType' object has no attribute 'text'\n",
            "'NoneType' object has no attribute 'text'\n",
            "'NoneType' object has no attribute 'text'\n",
            "'NoneType' object has no attribute 'text'\n",
            "'NoneType' object has no attribute 'text'\n",
            "'NoneType' object has no attribute 'text'\n",
            "'NoneType' object has no attribute 'text'\n",
            "'NoneType' object has no attribute 'text'\n",
            "'NoneType' object has no attribute 'text'\n",
            "'NoneType' object has no attribute 'text'\n",
            "'NoneType' object has no attribute 'text'\n",
            "'NoneType' object has no attribute 'text'\n",
            "'NoneType' object has no attribute 'text'\n",
            "'NoneType' object has no attribute 'text'\n",
            "'NoneType' object has no attribute 'text'\n",
            "'NoneType' object has no attribute 'text'\n",
            "'NoneType' object has no attribute 'text'\n",
            "'NoneType' object has no attribute 'text'\n",
            "'NoneType' object has no attribute 'text'\n",
            "'NoneType' object has no attribute 'text'\n",
            "'NoneType' object has no attribute 'text'\n",
            "'NoneType' object has no attribute 'text'\n",
            "'NoneType' object has no attribute 'text'\n",
            "'NoneType' object has no attribute 'text'\n",
            "'NoneType' object has no attribute 'text'\n",
            "'NoneType' object has no attribute 'text'\n",
            "'NoneType' object has no attribute 'text'\n",
            "'NoneType' object has no attribute 'text'\n",
            "'NoneType' object has no attribute 'text'\n",
            "'NoneType' object has no attribute 'text'\n",
            "'NoneType' object has no attribute 'text'\n",
            "'NoneType' object has no attribute 'text'\n",
            "'NoneType' object has no attribute 'text'\n",
            "'NoneType' object has no attribute 'text'\n",
            "'NoneType' object has no attribute 'text'\n",
            "'NoneType' object has no attribute 'text'\n",
            "'NoneType' object has no attribute 'text'\n",
            "'NoneType' object has no attribute 'text'\n",
            "'NoneType' object has no attribute 'text'\n",
            "'NoneType' object has no attribute 'text'\n",
            "'NoneType' object has no attribute 'text'\n",
            "'NoneType' object has no attribute 'text'\n",
            "'NoneType' object has no attribute 'text'\n",
            "'NoneType' object has no attribute 'text'\n",
            "'NoneType' object has no attribute 'text'\n",
            "'NoneType' object has no attribute 'text'\n",
            "'NoneType' object has no attribute 'text'\n",
            "'NoneType' object has no attribute 'text'\n",
            "'NoneType' object has no attribute 'text'\n",
            "'NoneType' object has no attribute 'text'\n",
            "'NoneType' object has no attribute 'text'\n",
            "'NoneType' object has no attribute 'text'\n",
            "'NoneType' object has no attribute 'text'\n",
            "'NoneType' object has no attribute 'text'\n",
            "'NoneType' object has no attribute 'text'\n",
            "'NoneType' object has no attribute 'text'\n",
            "'NoneType' object has no attribute 'text'\n",
            "'NoneType' object has no attribute 'text'\n",
            "'NoneType' object has no attribute 'text'\n",
            "'NoneType' object has no attribute 'text'\n",
            "'NoneType' object has no attribute 'text'\n",
            "'NoneType' object has no attribute 'text'\n",
            "'NoneType' object has no attribute 'text'\n",
            "'NoneType' object has no attribute 'text'\n",
            "'NoneType' object has no attribute 'text'\n",
            "'NoneType' object has no attribute 'text'\n",
            "'NoneType' object has no attribute 'text'\n",
            "'NoneType' object has no attribute 'text'\n",
            "'NoneType' object has no attribute 'text'\n",
            "'NoneType' object has no attribute 'text'\n",
            "'NoneType' object has no attribute 'text'\n",
            "'NoneType' object has no attribute 'text'\n",
            "'NoneType' object has no attribute 'text'\n",
            "'NoneType' object has no attribute 'text'\n",
            "'NoneType' object has no attribute 'text'\n",
            "'NoneType' object has no attribute 'text'\n",
            "'NoneType' object has no attribute 'text'\n",
            "'NoneType' object has no attribute 'text'\n",
            "'NoneType' object has no attribute 'text'\n",
            "'NoneType' object has no attribute 'text'\n",
            "'NoneType' object has no attribute 'text'\n",
            "'NoneType' object has no attribute 'text'\n",
            "'NoneType' object has no attribute 'text'\n",
            "'NoneType' object has no attribute 'text'\n",
            "'NoneType' object has no attribute 'text'\n",
            "'NoneType' object has no attribute 'text'\n",
            "'NoneType' object has no attribute 'text'\n",
            "'NoneType' object has no attribute 'text'\n",
            "'NoneType' object has no attribute 'text'\n",
            "'NoneType' object has no attribute 'text'\n",
            "'NoneType' object has no attribute 'text'\n",
            "'NoneType' object has no attribute 'text'\n",
            "'NoneType' object has no attribute 'text'\n",
            "'NoneType' object has no attribute 'text'\n",
            "'NoneType' object has no attribute 'text'\n",
            "'NoneType' object has no attribute 'text'\n",
            "'NoneType' object has no attribute 'text'\n",
            "'NoneType' object has no attribute 'text'\n",
            "'NoneType' object has no attribute 'text'\n",
            "'NoneType' object has no attribute 'text'\n",
            "'NoneType' object has no attribute 'text'\n",
            "'NoneType' object has no attribute 'text'\n",
            "'NoneType' object has no attribute 'text'\n",
            "'NoneType' object has no attribute 'text'\n",
            "'NoneType' object has no attribute 'text'\n",
            "'NoneType' object has no attribute 'text'\n",
            "'NoneType' object has no attribute 'text'\n",
            "'NoneType' object has no attribute 'text'\n",
            "'NoneType' object has no attribute 'text'\n",
            "'NoneType' object has no attribute 'text'\n",
            "'NoneType' object has no attribute 'text'\n",
            "'NoneType' object has no attribute 'text'\n",
            "'NoneType' object has no attribute 'text'\n",
            "'NoneType' object has no attribute 'text'\n",
            "'NoneType' object has no attribute 'text'\n",
            "'NoneType' object has no attribute 'text'\n",
            "'NoneType' object has no attribute 'text'\n",
            "'NoneType' object has no attribute 'text'\n",
            "'NoneType' object has no attribute 'text'\n",
            "'NoneType' object has no attribute 'text'\n",
            "'NoneType' object has no attribute 'text'\n",
            "'NoneType' object has no attribute 'text'\n",
            "'NoneType' object has no attribute 'text'\n",
            "'NoneType' object has no attribute 'text'\n",
            "'NoneType' object has no attribute 'text'\n",
            "'NoneType' object has no attribute 'text'\n",
            "'NoneType' object has no attribute 'text'\n",
            "'NoneType' object has no attribute 'text'\n",
            "'NoneType' object has no attribute 'text'\n",
            "'NoneType' object has no attribute 'text'\n",
            "'NoneType' object has no attribute 'text'\n",
            "'NoneType' object has no attribute 'text'\n",
            "'NoneType' object has no attribute 'text'\n",
            "'NoneType' object has no attribute 'text'\n",
            "'NoneType' object has no attribute 'text'\n",
            "'NoneType' object has no attribute 'text'\n",
            "'NoneType' object has no attribute 'text'\n",
            "'NoneType' object has no attribute 'text'\n",
            "'NoneType' object has no attribute 'text'\n",
            "'NoneType' object has no attribute 'text'\n",
            "'NoneType' object has no attribute 'text'\n",
            "'NoneType' object has no attribute 'text'\n",
            "'NoneType' object has no attribute 'text'\n",
            "'NoneType' object has no attribute 'text'\n",
            "'NoneType' object has no attribute 'text'\n",
            "'NoneType' object has no attribute 'text'\n",
            "'NoneType' object has no attribute 'text'\n",
            "'NoneType' object has no attribute 'text'\n",
            "'NoneType' object has no attribute 'text'\n",
            "'NoneType' object has no attribute 'text'\n",
            "'NoneType' object has no attribute 'text'\n",
            "'NoneType' object has no attribute 'text'\n",
            "'NoneType' object has no attribute 'text'\n",
            "'NoneType' object has no attribute 'text'\n",
            "'NoneType' object has no attribute 'text'\n",
            "'NoneType' object has no attribute 'text'\n",
            "'NoneType' object has no attribute 'text'\n",
            "'NoneType' object has no attribute 'text'\n",
            "'NoneType' object has no attribute 'text'\n",
            "'NoneType' object has no attribute 'text'\n",
            "'NoneType' object has no attribute 'text'\n",
            "'NoneType' object has no attribute 'text'\n",
            "'NoneType' object has no attribute 'text'\n",
            "'NoneType' object has no attribute 'text'\n",
            "'NoneType' object has no attribute 'text'\n",
            "'NoneType' object has no attribute 'text'\n",
            "'NoneType' object has no attribute 'text'\n",
            "'NoneType' object has no attribute 'text'\n",
            "'NoneType' object has no attribute 'text'\n",
            "'NoneType' object has no attribute 'text'\n",
            "'NoneType' object has no attribute 'text'\n",
            "'NoneType' object has no attribute 'text'\n",
            "'NoneType' object has no attribute 'text'\n",
            "'NoneType' object has no attribute 'text'\n",
            "'NoneType' object has no attribute 'text'\n",
            "'NoneType' object has no attribute 'text'\n",
            "'NoneType' object has no attribute 'text'\n",
            "'NoneType' object has no attribute 'text'\n",
            "'NoneType' object has no attribute 'text'\n",
            "'NoneType' object has no attribute 'text'\n",
            "'NoneType' object has no attribute 'text'\n",
            "'NoneType' object has no attribute 'text'\n",
            "'NoneType' object has no attribute 'text'\n",
            "'NoneType' object has no attribute 'text'\n",
            "'NoneType' object has no attribute 'text'\n",
            "'NoneType' object has no attribute 'text'\n",
            "'NoneType' object has no attribute 'text'\n",
            "'NoneType' object has no attribute 'text'\n",
            "'NoneType' object has no attribute 'text'\n",
            "'NoneType' object has no attribute 'text'\n",
            "'NoneType' object has no attribute 'text'\n",
            "'NoneType' object has no attribute 'text'\n",
            "'NoneType' object has no attribute 'text'\n",
            "'NoneType' object has no attribute 'text'\n",
            "'NoneType' object has no attribute 'text'\n",
            "'NoneType' object has no attribute 'text'\n",
            "'NoneType' object has no attribute 'text'\n",
            "'NoneType' object has no attribute 'text'\n",
            "'NoneType' object has no attribute 'text'\n",
            "'NoneType' object has no attribute 'text'\n",
            "'NoneType' object has no attribute 'text'\n",
            "'NoneType' object has no attribute 'text'\n",
            "'NoneType' object has no attribute 'text'\n",
            "'NoneType' object has no attribute 'text'\n",
            "'NoneType' object has no attribute 'text'\n",
            "'NoneType' object has no attribute 'text'\n",
            "'NoneType' object has no attribute 'text'\n",
            "'NoneType' object has no attribute 'text'\n",
            "'NoneType' object has no attribute 'text'\n",
            "'NoneType' object has no attribute 'text'\n",
            "'NoneType' object has no attribute 'text'\n",
            "'NoneType' object has no attribute 'text'\n",
            "'NoneType' object has no attribute 'text'\n",
            "'NoneType' object has no attribute 'text'\n",
            "'NoneType' object has no attribute 'text'\n",
            "'NoneType' object has no attribute 'text'\n",
            "'NoneType' object has no attribute 'text'\n",
            "'NoneType' object has no attribute 'text'\n",
            "'NoneType' object has no attribute 'text'\n",
            "'NoneType' object has no attribute 'text'\n",
            "'NoneType' object has no attribute 'text'\n",
            "'NoneType' object has no attribute 'text'\n",
            "'NoneType' object has no attribute 'text'\n",
            "'NoneType' object has no attribute 'text'\n",
            "'NoneType' object has no attribute 'text'\n",
            "'NoneType' object has no attribute 'text'\n",
            "'NoneType' object has no attribute 'text'\n",
            "'NoneType' object has no attribute 'text'\n",
            "'NoneType' object has no attribute 'text'\n",
            "'NoneType' object has no attribute 'text'\n",
            "'NoneType' object has no attribute 'text'\n",
            "'NoneType' object has no attribute 'text'\n",
            "'NoneType' object has no attribute 'text'\n",
            "'NoneType' object has no attribute 'text'\n",
            "'NoneType' object has no attribute 'text'\n"
          ]
        }
      ]
    },
    {
      "cell_type": "markdown",
      "source": [
        "# Save to file"
      ],
      "metadata": {
        "id": "HLUSojqmebJC"
      }
    },
    {
      "cell_type": "code",
      "source": [
        "df = pd.DataFrame(all_offers_scraped)"
      ],
      "metadata": {
        "id": "emXvE89VQ23j"
      },
      "execution_count": null,
      "outputs": []
    },
    {
      "cell_type": "code",
      "source": [
        "df.to_csv(OUTPUT_PATH, index=False, mode=\"w+\")"
      ],
      "metadata": {
        "id": "MFRJnaJGW7p3"
      },
      "execution_count": null,
      "outputs": []
    },
    {
      "cell_type": "code",
      "source": [
        "len(all_offers_scraped)"
      ],
      "metadata": {
        "colab": {
          "base_uri": "https://localhost:8080/"
        },
        "id": "5uigMYk_gQhe",
        "outputId": "e49f975a-e963-4127-9bfa-503046308cd6"
      },
      "execution_count": null,
      "outputs": [
        {
          "output_type": "execute_result",
          "data": {
            "text/plain": [
              "418"
            ]
          },
          "metadata": {},
          "execution_count": 87
        }
      ]
    },
    {
      "cell_type": "code",
      "source": [],
      "metadata": {
        "id": "uBAdlLWFsIZR"
      },
      "execution_count": null,
      "outputs": []
    }
  ]
}