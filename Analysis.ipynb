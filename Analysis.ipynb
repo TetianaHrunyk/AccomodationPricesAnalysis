{
  "nbformat": 4,
  "nbformat_minor": 0,
  "metadata": {
    "colab": {
      "provenance": [],
      "authorship_tag": "ABX9TyNRKTZln6voiJ6lcnZTdrl5",
      "include_colab_link": true
    },
    "kernelspec": {
      "name": "python3",
      "display_name": "Python 3"
    },
    "language_info": {
      "name": "python"
    }
  },
  "cells": [
    {
      "cell_type": "markdown",
      "metadata": {
        "id": "view-in-github",
        "colab_type": "text"
      },
      "source": [
        "<a href=\"https://colab.research.google.com/github/TetianaHrunyk/AccomodationPricesAnalysis/blob/main/Analysis.ipynb\" target=\"_parent\"><img src=\"https://colab.research.google.com/assets/colab-badge.svg\" alt=\"Open In Colab\"/></a>"
      ]
    },
    {
      "cell_type": "code",
      "execution_count": null,
      "metadata": {
        "id": "q7DARVsQ0qY2"
      },
      "outputs": [],
      "source": [
        "import pandas as pd\n",
        "from pathlib import Path\n",
        "import os\n",
        "import re\n",
        "from matplotlib import pyplot as plt\n",
        "import seaborn as sns"
      ]
    },
    {
      "cell_type": "code",
      "source": [
        "from google.colab import drive\n",
        "drive.mount('/content/drive')"
      ],
      "metadata": {
        "colab": {
          "base_uri": "https://localhost:8080/"
        },
        "id": "Fg5wdM8c05Zy",
        "outputId": "8165590f-fdf5-4df4-9067-9c98b246ba24"
      },
      "execution_count": null,
      "outputs": [
        {
          "output_type": "stream",
          "name": "stdout",
          "text": [
            "Mounted at /content/drive\n"
          ]
        }
      ]
    },
    {
      "cell_type": "code",
      "source": [
        "plt.rcParams[\"figure.figsize\"] = (16, 6)\n",
        "sns.set_style(\"whitegrid\")"
      ],
      "metadata": {
        "id": "VLkDGxKf7hXQ"
      },
      "execution_count": null,
      "outputs": []
    },
    {
      "cell_type": "markdown",
      "source": [
        "# Constants"
      ],
      "metadata": {
        "id": "RhaGRlcA1TJm"
      }
    },
    {
      "cell_type": "code",
      "source": [
        "BASE_PATH = \"drive/MyDrive/Projects/RentalsPL/data/\""
      ],
      "metadata": {
        "id": "08dIoMUK1LMM"
      },
      "execution_count": null,
      "outputs": []
    },
    {
      "cell_type": "code",
      "source": [],
      "metadata": {
        "id": "TCSXhF_i1SNc"
      },
      "execution_count": null,
      "outputs": []
    },
    {
      "cell_type": "markdown",
      "source": [
        "# Loading data"
      ],
      "metadata": {
        "id": "rlhzlWY81VRF"
      }
    },
    {
      "cell_type": "code",
      "source": [
        "os.listdir(BASE_PATH)"
      ],
      "metadata": {
        "colab": {
          "base_uri": "https://localhost:8080/"
        },
        "id": "udmQa9mF1g2m",
        "outputId": "d6cc71c3-d5e4-4bef-f527-75f2a090781b"
      },
      "execution_count": null,
      "outputs": [
        {
          "output_type": "execute_result",
          "data": {
            "text/plain": [
              "['krakow_2023-08-24T07:32.csv',\n",
              " 'krakow_2023-08-24T07:32.gsheet',\n",
              " 'krakow_2023-08-24T07:55.csv',\n",
              " 'wroclaw_2023-08-24T09:16.csv',\n",
              " 'poznan_2023-08-24T09:44.csv',\n",
              " 'lodz_2023-08-24T10:07.csv',\n",
              " 'warszawa_2023-08-24T10:16.csv']"
            ]
          },
          "metadata": {},
          "execution_count": 5
        }
      ]
    },
    {
      "cell_type": "code",
      "source": [
        "krakow = pd.read_csv(os.path.join(BASE_PATH, 'lodz_2023-08-24T10:07.csv'))"
      ],
      "metadata": {
        "id": "ebF7HnP91cA8"
      },
      "execution_count": null,
      "outputs": []
    },
    {
      "cell_type": "code",
      "source": [
        "krakow.head()"
      ],
      "metadata": {
        "colab": {
          "base_uri": "https://localhost:8080/",
          "height": 206
        },
        "id": "-EO3WF5e11Ut",
        "outputId": "a8932dcf-0af8-4a03-8725-a2aeb48edf6b"
      },
      "execution_count": null,
      "outputs": [
        {
          "output_type": "execute_result",
          "data": {
            "text/plain": [
              "              added                                              title  \\\n",
              "0  22 sierpnia 2023  Dwupokojowy apartament z balkonem obok MANUFAK...   \n",
              "1  17 sierpnia 2023                            M-2 Łódź ul. Pabianicka   \n",
              "2  17 sierpnia 2023   Mieszkanie 2 pokojowe, Łódź Bałuty, ul. Plantowa   \n",
              "3  22 sierpnia 2023     Wynajmę bezpośrednio kawalerkę w centrum Łodzi   \n",
              "4  17 sierpnia 2023  Do wynajęcia od 1 września dwupokojowe mieszka...   \n",
              "\n",
              "      price                                               tags  \\\n",
              "0  2 500 zł  ['Prywatne', 'Poziom: 5', 'Umeblowane: Tak', '...   \n",
              "1  1 200 zł  ['Prywatne', 'Poziom: 4', 'Umeblowane: Tak', '...   \n",
              "2  1 500 zł  ['Prywatne', 'Poziom: 4', 'Umeblowane: Tak', '...   \n",
              "3  2 100 zł  ['Prywatne', 'Poziom: 2', 'Umeblowane: Tak', '...   \n",
              "4  2 200 zł  ['Firmowe', 'Poziom: 1', 'Umeblowane: Tak', 'R...   \n",
              "\n",
              "                                         description  \\\n",
              "0  Słoneczny, dwupokojowy apartament z balkonem i...   \n",
              "1  Mam do wynajęcia mieszkanie typu M-2  w pełni ...   \n",
              "2  Witam,\\n\\nMam do wynajęcia umeblowane i wyposa...   \n",
              "3  Wynajmę bezpośrednio mieszkanie w nowo wybudow...   \n",
              "4  Do wynajęcia od 1 września dwupokojowe mieszka...   \n",
              "\n",
              "                                              images  city           scraped  \n",
              "0  ['https://ireland.apollo.olxcdn.com:443/v1/fil...  lodz  2023-08-24T10:07  \n",
              "1  ['https://ireland.apollo.olxcdn.com:443/v1/fil...  lodz  2023-08-24T10:07  \n",
              "2  ['https://ireland.apollo.olxcdn.com:443/v1/fil...  lodz  2023-08-24T10:07  \n",
              "3  ['https://ireland.apollo.olxcdn.com:443/v1/fil...  lodz  2023-08-24T10:07  \n",
              "4  ['https://ireland.apollo.olxcdn.com:443/v1/fil...  lodz  2023-08-24T10:07  "
            ],
            "text/html": [
              "\n",
              "  <div id=\"df-e45a4d01-5f0b-447e-99fb-19b3cfcbc9f2\" class=\"colab-df-container\">\n",
              "    <div>\n",
              "<style scoped>\n",
              "    .dataframe tbody tr th:only-of-type {\n",
              "        vertical-align: middle;\n",
              "    }\n",
              "\n",
              "    .dataframe tbody tr th {\n",
              "        vertical-align: top;\n",
              "    }\n",
              "\n",
              "    .dataframe thead th {\n",
              "        text-align: right;\n",
              "    }\n",
              "</style>\n",
              "<table border=\"1\" class=\"dataframe\">\n",
              "  <thead>\n",
              "    <tr style=\"text-align: right;\">\n",
              "      <th></th>\n",
              "      <th>added</th>\n",
              "      <th>title</th>\n",
              "      <th>price</th>\n",
              "      <th>tags</th>\n",
              "      <th>description</th>\n",
              "      <th>images</th>\n",
              "      <th>city</th>\n",
              "      <th>scraped</th>\n",
              "    </tr>\n",
              "  </thead>\n",
              "  <tbody>\n",
              "    <tr>\n",
              "      <th>0</th>\n",
              "      <td>22 sierpnia 2023</td>\n",
              "      <td>Dwupokojowy apartament z balkonem obok MANUFAK...</td>\n",
              "      <td>2 500 zł</td>\n",
              "      <td>['Prywatne', 'Poziom: 5', 'Umeblowane: Tak', '...</td>\n",
              "      <td>Słoneczny, dwupokojowy apartament z balkonem i...</td>\n",
              "      <td>['https://ireland.apollo.olxcdn.com:443/v1/fil...</td>\n",
              "      <td>lodz</td>\n",
              "      <td>2023-08-24T10:07</td>\n",
              "    </tr>\n",
              "    <tr>\n",
              "      <th>1</th>\n",
              "      <td>17 sierpnia 2023</td>\n",
              "      <td>M-2 Łódź ul. Pabianicka</td>\n",
              "      <td>1 200 zł</td>\n",
              "      <td>['Prywatne', 'Poziom: 4', 'Umeblowane: Tak', '...</td>\n",
              "      <td>Mam do wynajęcia mieszkanie typu M-2  w pełni ...</td>\n",
              "      <td>['https://ireland.apollo.olxcdn.com:443/v1/fil...</td>\n",
              "      <td>lodz</td>\n",
              "      <td>2023-08-24T10:07</td>\n",
              "    </tr>\n",
              "    <tr>\n",
              "      <th>2</th>\n",
              "      <td>17 sierpnia 2023</td>\n",
              "      <td>Mieszkanie 2 pokojowe, Łódź Bałuty, ul. Plantowa</td>\n",
              "      <td>1 500 zł</td>\n",
              "      <td>['Prywatne', 'Poziom: 4', 'Umeblowane: Tak', '...</td>\n",
              "      <td>Witam,\\n\\nMam do wynajęcia umeblowane i wyposa...</td>\n",
              "      <td>['https://ireland.apollo.olxcdn.com:443/v1/fil...</td>\n",
              "      <td>lodz</td>\n",
              "      <td>2023-08-24T10:07</td>\n",
              "    </tr>\n",
              "    <tr>\n",
              "      <th>3</th>\n",
              "      <td>22 sierpnia 2023</td>\n",
              "      <td>Wynajmę bezpośrednio kawalerkę w centrum Łodzi</td>\n",
              "      <td>2 100 zł</td>\n",
              "      <td>['Prywatne', 'Poziom: 2', 'Umeblowane: Tak', '...</td>\n",
              "      <td>Wynajmę bezpośrednio mieszkanie w nowo wybudow...</td>\n",
              "      <td>['https://ireland.apollo.olxcdn.com:443/v1/fil...</td>\n",
              "      <td>lodz</td>\n",
              "      <td>2023-08-24T10:07</td>\n",
              "    </tr>\n",
              "    <tr>\n",
              "      <th>4</th>\n",
              "      <td>17 sierpnia 2023</td>\n",
              "      <td>Do wynajęcia od 1 września dwupokojowe mieszka...</td>\n",
              "      <td>2 200 zł</td>\n",
              "      <td>['Firmowe', 'Poziom: 1', 'Umeblowane: Tak', 'R...</td>\n",
              "      <td>Do wynajęcia od 1 września dwupokojowe mieszka...</td>\n",
              "      <td>['https://ireland.apollo.olxcdn.com:443/v1/fil...</td>\n",
              "      <td>lodz</td>\n",
              "      <td>2023-08-24T10:07</td>\n",
              "    </tr>\n",
              "  </tbody>\n",
              "</table>\n",
              "</div>\n",
              "    <div class=\"colab-df-buttons\">\n",
              "\n",
              "  <div class=\"colab-df-container\">\n",
              "    <button class=\"colab-df-convert\" onclick=\"convertToInteractive('df-e45a4d01-5f0b-447e-99fb-19b3cfcbc9f2')\"\n",
              "            title=\"Convert this dataframe to an interactive table.\"\n",
              "            style=\"display:none;\">\n",
              "\n",
              "  <svg xmlns=\"http://www.w3.org/2000/svg\" height=\"24px\" viewBox=\"0 -960 960 960\">\n",
              "    <path d=\"M120-120v-720h720v720H120Zm60-500h600v-160H180v160Zm220 220h160v-160H400v160Zm0 220h160v-160H400v160ZM180-400h160v-160H180v160Zm440 0h160v-160H620v160ZM180-180h160v-160H180v160Zm440 0h160v-160H620v160Z\"/>\n",
              "  </svg>\n",
              "    </button>\n",
              "\n",
              "  <style>\n",
              "    .colab-df-container {\n",
              "      display:flex;\n",
              "      gap: 12px;\n",
              "    }\n",
              "\n",
              "    .colab-df-convert {\n",
              "      background-color: #E8F0FE;\n",
              "      border: none;\n",
              "      border-radius: 50%;\n",
              "      cursor: pointer;\n",
              "      display: none;\n",
              "      fill: #1967D2;\n",
              "      height: 32px;\n",
              "      padding: 0 0 0 0;\n",
              "      width: 32px;\n",
              "    }\n",
              "\n",
              "    .colab-df-convert:hover {\n",
              "      background-color: #E2EBFA;\n",
              "      box-shadow: 0px 1px 2px rgba(60, 64, 67, 0.3), 0px 1px 3px 1px rgba(60, 64, 67, 0.15);\n",
              "      fill: #174EA6;\n",
              "    }\n",
              "\n",
              "    .colab-df-buttons div {\n",
              "      margin-bottom: 4px;\n",
              "    }\n",
              "\n",
              "    [theme=dark] .colab-df-convert {\n",
              "      background-color: #3B4455;\n",
              "      fill: #D2E3FC;\n",
              "    }\n",
              "\n",
              "    [theme=dark] .colab-df-convert:hover {\n",
              "      background-color: #434B5C;\n",
              "      box-shadow: 0px 1px 3px 1px rgba(0, 0, 0, 0.15);\n",
              "      filter: drop-shadow(0px 1px 2px rgba(0, 0, 0, 0.3));\n",
              "      fill: #FFFFFF;\n",
              "    }\n",
              "  </style>\n",
              "\n",
              "    <script>\n",
              "      const buttonEl =\n",
              "        document.querySelector('#df-e45a4d01-5f0b-447e-99fb-19b3cfcbc9f2 button.colab-df-convert');\n",
              "      buttonEl.style.display =\n",
              "        google.colab.kernel.accessAllowed ? 'block' : 'none';\n",
              "\n",
              "      async function convertToInteractive(key) {\n",
              "        const element = document.querySelector('#df-e45a4d01-5f0b-447e-99fb-19b3cfcbc9f2');\n",
              "        const dataTable =\n",
              "          await google.colab.kernel.invokeFunction('convertToInteractive',\n",
              "                                                    [key], {});\n",
              "        if (!dataTable) return;\n",
              "\n",
              "        const docLinkHtml = 'Like what you see? Visit the ' +\n",
              "          '<a target=\"_blank\" href=https://colab.research.google.com/notebooks/data_table.ipynb>data table notebook</a>'\n",
              "          + ' to learn more about interactive tables.';\n",
              "        element.innerHTML = '';\n",
              "        dataTable['output_type'] = 'display_data';\n",
              "        await google.colab.output.renderOutput(dataTable, element);\n",
              "        const docLink = document.createElement('div');\n",
              "        docLink.innerHTML = docLinkHtml;\n",
              "        element.appendChild(docLink);\n",
              "      }\n",
              "    </script>\n",
              "  </div>\n",
              "\n",
              "\n",
              "<div id=\"df-d625f1f5-12cf-4788-93e5-167587a1d999\">\n",
              "  <button class=\"colab-df-quickchart\" onclick=\"quickchart('df-d625f1f5-12cf-4788-93e5-167587a1d999')\"\n",
              "            title=\"Suggest charts.\"\n",
              "            style=\"display:none;\">\n",
              "\n",
              "<svg xmlns=\"http://www.w3.org/2000/svg\" height=\"24px\"viewBox=\"0 0 24 24\"\n",
              "     width=\"24px\">\n",
              "    <g>\n",
              "        <path d=\"M19 3H5c-1.1 0-2 .9-2 2v14c0 1.1.9 2 2 2h14c1.1 0 2-.9 2-2V5c0-1.1-.9-2-2-2zM9 17H7v-7h2v7zm4 0h-2V7h2v10zm4 0h-2v-4h2v4z\"/>\n",
              "    </g>\n",
              "</svg>\n",
              "  </button>\n",
              "\n",
              "<style>\n",
              "  .colab-df-quickchart {\n",
              "    background-color: #E8F0FE;\n",
              "    border: none;\n",
              "    border-radius: 50%;\n",
              "    cursor: pointer;\n",
              "    display: none;\n",
              "    fill: #1967D2;\n",
              "    height: 32px;\n",
              "    padding: 0 0 0 0;\n",
              "    width: 32px;\n",
              "  }\n",
              "\n",
              "  .colab-df-quickchart:hover {\n",
              "    background-color: #E2EBFA;\n",
              "    box-shadow: 0px 1px 2px rgba(60, 64, 67, 0.3), 0px 1px 3px 1px rgba(60, 64, 67, 0.15);\n",
              "    fill: #174EA6;\n",
              "  }\n",
              "\n",
              "  [theme=dark] .colab-df-quickchart {\n",
              "    background-color: #3B4455;\n",
              "    fill: #D2E3FC;\n",
              "  }\n",
              "\n",
              "  [theme=dark] .colab-df-quickchart:hover {\n",
              "    background-color: #434B5C;\n",
              "    box-shadow: 0px 1px 3px 1px rgba(0, 0, 0, 0.15);\n",
              "    filter: drop-shadow(0px 1px 2px rgba(0, 0, 0, 0.3));\n",
              "    fill: #FFFFFF;\n",
              "  }\n",
              "</style>\n",
              "\n",
              "  <script>\n",
              "    async function quickchart(key) {\n",
              "      const charts = await google.colab.kernel.invokeFunction(\n",
              "          'suggestCharts', [key], {});\n",
              "    }\n",
              "    (() => {\n",
              "      let quickchartButtonEl =\n",
              "        document.querySelector('#df-d625f1f5-12cf-4788-93e5-167587a1d999 button');\n",
              "      quickchartButtonEl.style.display =\n",
              "        google.colab.kernel.accessAllowed ? 'block' : 'none';\n",
              "    })();\n",
              "  </script>\n",
              "</div>\n",
              "    </div>\n",
              "  </div>\n"
            ]
          },
          "metadata": {},
          "execution_count": 7
        }
      ]
    },
    {
      "cell_type": "code",
      "source": [
        "krakow[\"tags\"] = krakow[\"tags\"].apply(lambda x: eval(x))"
      ],
      "metadata": {
        "id": "2prnEJWU6btg"
      },
      "execution_count": null,
      "outputs": []
    },
    {
      "cell_type": "code",
      "source": [
        "krakow[\"price\"] = krakow[\"price\"].apply(lambda x: int(re.findall(r\"\\d+\", x.replace(\" \", \"\"))[0]))"
      ],
      "metadata": {
        "id": "sSyUlIjM18jv"
      },
      "execution_count": null,
      "outputs": []
    },
    {
      "cell_type": "code",
      "source": [
        "def extract_czynsz(tags):\n",
        "  czynsz_tag = [tag for tag in tags if \"czynsz\" in tag.lower()]\n",
        "  if czynsz_tag:\n",
        "    digits = re.findall(r\"\\d+\", czynsz_tag[0].replace(\" \", \"\"))\n",
        "    if digits:\n",
        "      return sum([int(d) for d in digits])\n",
        "    return 0\n",
        "\n",
        "krakow[\"extra_price\"] = krakow[\"tags\"].apply(lambda tags: extract_czynsz(tags))"
      ],
      "metadata": {
        "id": "nnU75HL22Nqo"
      },
      "execution_count": null,
      "outputs": []
    },
    {
      "cell_type": "code",
      "source": [
        "krakow[\"total_price\"] = krakow[\"price\"] + krakow[\"extra_price\"]"
      ],
      "metadata": {
        "id": "vuf1pjTT6vUb"
      },
      "execution_count": null,
      "outputs": []
    },
    {
      "cell_type": "markdown",
      "source": [
        "# Insights"
      ],
      "metadata": {
        "id": "uo313mCt5b_I"
      }
    },
    {
      "cell_type": "code",
      "source": [
        "krakow.price.describe()"
      ],
      "metadata": {
        "colab": {
          "base_uri": "https://localhost:8080/"
        },
        "id": "FxU-LP913p1m",
        "outputId": "e689a87d-fc73-4320-f1a9-b83808ea4c39"
      },
      "execution_count": null,
      "outputs": [
        {
          "output_type": "execute_result",
          "data": {
            "text/plain": [
              "count      364.000000\n",
              "mean      1912.370879\n",
              "std       1408.875238\n",
              "min        500.000000\n",
              "25%       1450.000000\n",
              "50%       1750.000000\n",
              "75%       2100.000000\n",
              "max      25000.000000\n",
              "Name: price, dtype: float64"
            ]
          },
          "metadata": {},
          "execution_count": 12
        }
      ]
    },
    {
      "cell_type": "code",
      "source": [
        "krakow.extra_price.describe()"
      ],
      "metadata": {
        "colab": {
          "base_uri": "https://localhost:8080/"
        },
        "id": "WtoXNvia4-Sx",
        "outputId": "ce2a57df-6998-4b8a-8f83-b928d9433d99"
      },
      "execution_count": null,
      "outputs": [
        {
          "output_type": "execute_result",
          "data": {
            "text/plain": [
              "count     363.000000\n",
              "mean      538.556474\n",
              "std       336.233482\n",
              "min         1.000000\n",
              "25%       390.000000\n",
              "50%       500.000000\n",
              "75%       650.000000\n",
              "max      3800.000000\n",
              "Name: extra_price, dtype: float64"
            ]
          },
          "metadata": {},
          "execution_count": 13
        }
      ]
    },
    {
      "cell_type": "code",
      "source": [],
      "metadata": {
        "id": "c-Yfm9Y-B7_l"
      },
      "execution_count": null,
      "outputs": []
    },
    {
      "cell_type": "code",
      "source": [
        "krakow.total_price.describe()"
      ],
      "metadata": {
        "colab": {
          "base_uri": "https://localhost:8080/"
        },
        "id": "E-Cc233L5iUQ",
        "outputId": "3537b526-e763-46a3-fcc8-c6309377d346"
      },
      "execution_count": null,
      "outputs": [
        {
          "output_type": "execute_result",
          "data": {
            "text/plain": [
              "count      363.000000\n",
              "mean      2450.548209\n",
              "std       1517.440128\n",
              "min        651.000000\n",
              "25%       1875.000000\n",
              "50%       2280.000000\n",
              "75%       2700.000000\n",
              "max      25700.000000\n",
              "Name: total_price, dtype: float64"
            ]
          },
          "metadata": {},
          "execution_count": 14
        }
      ]
    },
    {
      "cell_type": "code",
      "source": [
        "sns.histplot(data=krakow, x=\"total_price\");"
      ],
      "metadata": {
        "colab": {
          "base_uri": "https://localhost:8080/",
          "height": 542
        },
        "id": "k70Ry2sR651e",
        "outputId": "e34c50bc-3122-4ba8-c02e-1b22bd559ba5"
      },
      "execution_count": null,
      "outputs": [
        {
          "output_type": "display_data",
          "data": {
            "text/plain": [
              "<Figure size 1600x600 with 1 Axes>"
            ],
            "image/png": "[encoded data removed]"
          },
          "metadata": {}
        }
      ]
    },
    {
      "cell_type": "code",
      "source": [
        "sns.histplot(data=krakow[(krakow.total_price.between(1500, 5000))], x=\"total_price\", bins=20);"
      ],
      "metadata": {
        "colab": {
          "base_uri": "https://localhost:8080/",
          "height": 544
        },
        "id": "YHYyq1NI7PvM",
        "outputId": "2324f84d-e6d3-4f69-95d2-38ffb160f51e"
      },
      "execution_count": null,
      "outputs": [
        {
          "output_type": "display_data",
          "data": {
            "text/plain": [
              "<Figure size 1600x600 with 1 Axes>"
            ],
            "image/png": "[encoded data removed]"
          },
          "metadata": {}
        }
      ]
    },
    {
      "cell_type": "code",
      "source": [],
      "metadata": {
        "id": "nLR2dWMe-uSV"
      },
      "execution_count": null,
      "outputs": []
    }
  ]
}